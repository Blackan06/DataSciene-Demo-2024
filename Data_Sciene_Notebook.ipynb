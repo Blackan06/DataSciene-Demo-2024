{
  "nbformat": 4,
  "nbformat_minor": 0,
  "metadata": {
    "colab": {
      "provenance": [],
      "toc_visible": true,
      "authorship_tag": "ABX9TyMWPBtU/10kwvoOmWVmNesU",
      "include_colab_link": true
    },
    "kernelspec": {
      "name": "python3",
      "display_name": "Python 3"
    },
    "language_info": {
      "name": "python"
    }
  },
  "cells": [
    {
      "cell_type": "markdown",
      "metadata": {
        "id": "view-in-github",
        "colab_type": "text"
      },
      "source": [
        "<a href=\"https://colab.research.google.com/github/Blackan06/DataSciene-Demo-2024/blob/main/Data_Sciene_Notebook.ipynb\" target=\"_parent\"><img src=\"https://colab.research.google.com/assets/colab-badge.svg\" alt=\"Open In Colab\"/></a>"
      ]
    },
    {
      "cell_type": "markdown",
      "source": [
        "#Ingest\n"
      ],
      "metadata": {
        "id": "3kM-IIQYPDRa"
      }
    },
    {
      "cell_type": "code",
      "execution_count": null,
      "metadata": {
        "id": "ir01Vz7aOhgj"
      },
      "outputs": [],
      "source": []
    },
    {
      "cell_type": "markdown",
      "source": [
        "#EDA"
      ],
      "metadata": {
        "id": "HxGoBgYdPHAj"
      }
    },
    {
      "cell_type": "code",
      "source": [],
      "metadata": {
        "id": "RY09FBgiPJFw"
      },
      "execution_count": null,
      "outputs": []
    },
    {
      "cell_type": "markdown",
      "source": [
        "#Modeling"
      ],
      "metadata": {
        "id": "T5iIipwbPJPl"
      }
    },
    {
      "cell_type": "code",
      "source": [],
      "metadata": {
        "id": "8RuukINLQ6el"
      },
      "execution_count": null,
      "outputs": []
    },
    {
      "cell_type": "markdown",
      "source": [
        "#Classification Algrorithm A\n"
      ],
      "metadata": {
        "id": "irqm8D1nQzK7"
      }
    },
    {
      "cell_type": "code",
      "source": [],
      "metadata": {
        "id": "AUQSrvHlQ5ow"
      },
      "execution_count": null,
      "outputs": []
    },
    {
      "cell_type": "markdown",
      "source": [
        "#Classification Algrorithm B\n",
        "\n"
      ],
      "metadata": {
        "id": "DGfOUfJyQ0lo"
      }
    },
    {
      "cell_type": "code",
      "source": [],
      "metadata": {
        "id": "FsXXOWjKQ5OW"
      },
      "execution_count": null,
      "outputs": []
    },
    {
      "cell_type": "markdown",
      "source": [
        "#Conclusion\n"
      ],
      "metadata": {
        "id": "Kc-aTQSfPMp0"
      }
    },
    {
      "cell_type": "code",
      "source": [],
      "metadata": {
        "id": "v0I2KWLJPP2f"
      },
      "execution_count": null,
      "outputs": []
    }
  ]
}